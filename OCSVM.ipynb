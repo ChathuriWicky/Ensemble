{
 "cells": [
  {
   "cell_type": "code",
   "execution_count": 2,
   "metadata": {
    "collapsed": true
   },
   "outputs": [],
   "source": [
    "import numpy as np\n",
    "import random\n",
    "import matplotlib.pyplot as plt\n",
    "import matplotlib\n",
    "from numpy import genfromtxt\n",
    "from sklearn.cluster import KMeans\n",
    "from sklearn import svm"
   ]
  },
  {
   "cell_type": "markdown",
   "metadata": {},
   "source": [
    "# Load data"
   ]
  },
  {
   "cell_type": "code",
   "execution_count": 3,
   "metadata": {},
   "outputs": [
    {
     "name": "stdout",
     "output_type": "stream",
     "text": [
      "(125973, 44)\n"
     ]
    }
   ],
   "source": [
    "dataset_name='TrainSet_Processed.csv'\n",
    "data1=genfromtxt(dataset_name,delimiter=\",\")\n",
    "print(np.shape(data1))"
   ]
  },
  {
   "cell_type": "code",
   "execution_count": 4,
   "metadata": {},
   "outputs": [
    {
     "name": "stdout",
     "output_type": "stream",
     "text": [
      "(22543, 44)\n"
     ]
    }
   ],
   "source": [
    "dataset_tst='TestSet_Processed.csv'\n",
    "data2=genfromtxt(dataset_tst,delimiter=\",\")\n",
    "print(np.shape(data2))"
   ]
  },
  {
   "cell_type": "markdown",
   "metadata": {},
   "source": [
    "# Train Test Data "
   ]
  },
  {
   "cell_type": "code",
   "execution_count": 5,
   "metadata": {},
   "outputs": [
    {
     "name": "stdout",
     "output_type": "stream",
     "text": [
      "(67343,)\n",
      "(67343, 41)\n",
      "(41214,)\n",
      "(41214, 41)\n",
      "(125973, 44)\n"
     ]
    }
   ],
   "source": [
    "#train\n",
    "ii = np.where(data1[:,43] == 0)[0]\n",
    "train_x=(data1[ii, 0:41])\n",
    "\n",
    "print(np.shape(ii))\n",
    "print(np.shape(train_x))\n",
    "\n",
    "ii = np.where(data1[:,41]==1)[0] #only neptune attack type\n",
    "train_x_attack=(data1[ii, 0:41])\n",
    "\n",
    "print(np.shape(ii))\n",
    "print(np.shape(train_x_attack))\n",
    "print(np.shape(data1))"
   ]
  },
  {
   "cell_type": "code",
   "execution_count": 6,
   "metadata": {},
   "outputs": [
    {
     "name": "stdout",
     "output_type": "stream",
     "text": [
      "(9710,)\n",
      "(9710, 41)\n",
      "(4657,)\n",
      "(4657, 41)\n",
      "(22543, 44)\n"
     ]
    }
   ],
   "source": [
    "ii = np.where(data2[:,43] == 0)[0]\n",
    "test_x=(data2[ii, 0:41])\n",
    "\n",
    "print(np.shape(ii))\n",
    "print(np.shape(test_x))\n",
    "\n",
    "#ii = np.where(data2[:,43] == 1)[0]\n",
    "ii = np.where(data2[:,41]==1)[0] #only neptune attack type\n",
    "test_x_attack=(data2[ii, 0:41])\n",
    "\n",
    "print(np.shape(ii))\n",
    "print(np.shape(test_x_attack))\n",
    "print(np.shape(data2))"
   ]
  },
  {
   "cell_type": "code",
   "execution_count": null,
   "metadata": {
    "collapsed": true
   },
   "outputs": [],
   "source": [
    "train_x_y=np.zeros(10000)\n",
    "train_x_attack_y=np.ones(10000)\n",
    "#X=np.concatenate((train_x, train_x_attack), axis=0)\n",
    "Y=np.concatenate((train_x_y, train_x_attack_y), axis=0)\n",
    "\n",
    "X1=train_x[0:10000,:]\n",
    "X2=train_x_attack[0:10000,:]\n",
    "X=np.concatenate((X1, X2), axis=0)\n",
    "\n",
    "\n",
    "print(np.shape(X))\n",
    "print(np.shape(Y))"
   ]
  },
  {
   "cell_type": "markdown",
   "metadata": {},
   "source": [
    "# OCSVM"
   ]
  },
  {
   "cell_type": "code",
   "execution_count": 15,
   "metadata": {},
   "outputs": [
    {
     "name": "stdout",
     "output_type": "stream",
     "text": [
      "6733\n",
      "9.998069584069613\n"
     ]
    }
   ],
   "source": [
    "#Training\n",
    "OCSVM_classifier=svm.OneClassSVM(nu=0.1, kernel='poly',degree=2, gamma=0.1)\n",
    "OCSVM_classifier.fit(train_x)\n",
    "y_pred_train = OCSVM_classifier.predict(train_x)\n",
    "\n",
    "n_error_train = y_pred_train[y_pred_train == -1].size\n",
    "print(n_error_train)\n",
    "print(n_error_train*100/np.shape(train_x)[0])"
   ]
  },
  {
   "cell_type": "code",
   "execution_count": 19,
   "metadata": {},
   "outputs": [
    {
     "name": "stdout",
     "output_type": "stream",
     "text": [
      "[1 1 1 ..., 1 1 1]\n",
      "573\n",
      "5.901132852729146\n"
     ]
    }
   ],
   "source": [
    "#Testing normal\n",
    "y_pred_train = OCSVM_classifier.predict(test_x)\n",
    "print(y_pred_train)\n",
    "n_error_train = y_pred_train[y_pred_train == -1].size\n",
    "print(n_error_train)\n",
    "print(n_error_train*100/np.shape(test_x)[0])"
   ]
  },
  {
   "cell_type": "code",
   "execution_count": 20,
   "metadata": {},
   "outputs": [
    {
     "name": "stdout",
     "output_type": "stream",
     "text": [
      "[-1 -1 -1 ..., -1 -1 -1]\n",
      "1977\n",
      "4.796913670112098\n"
     ]
    }
   ],
   "source": [
    "#Testing attack\n",
    "y_pred_train = OCSVM_classifier.predict(train_x_attack)\n",
    "print(y_pred_train)\n",
    "n_error_train = y_pred_train[y_pred_train != -1].size\n",
    "print(n_error_train)\n",
    "print(n_error_train*100/np.shape(train_x_attack)[0])"
   ]
  },
  {
   "cell_type": "code",
   "execution_count": 18,
   "metadata": {},
   "outputs": [
    {
     "name": "stdout",
     "output_type": "stream",
     "text": [
      "[-1 -1 -1 ..., -1 -1 -1]\n",
      "149\n",
      "3.1994846467683056\n"
     ]
    }
   ],
   "source": [
    "#Testing attack\n",
    "y_pred_train = OCSVM_classifier.predict(test_x_attack)\n",
    "print(y_pred_train)\n",
    "n_error_train = y_pred_train[y_pred_train != -1].size\n",
    "print(n_error_train)\n",
    "print(n_error_train*100/np.shape(test_x_attack)[0])"
   ]
  },
  {
   "cell_type": "code",
   "execution_count": null,
   "metadata": {
    "collapsed": true
   },
   "outputs": [],
   "source": []
  }
 ],
 "metadata": {
  "anaconda-cloud": {},
  "kernelspec": {
   "display_name": "Python 3",
   "language": "python",
   "name": "python3"
  },
  "language_info": {
   "codemirror_mode": {
    "name": "ipython",
    "version": 3
   },
   "file_extension": ".py",
   "mimetype": "text/x-python",
   "name": "python",
   "nbconvert_exporter": "python",
   "pygments_lexer": "ipython3",
   "version": "3.6.2"
  }
 },
 "nbformat": 4,
 "nbformat_minor": 2
}
