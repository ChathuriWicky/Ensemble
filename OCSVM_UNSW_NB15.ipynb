{
 "cells": [
  {
   "cell_type": "code",
   "execution_count": 1,
   "metadata": {
    "collapsed": true
   },
   "outputs": [],
   "source": [
    "import numpy as np\n",
    "import random\n",
    "import matplotlib.pyplot as plt\n",
    "import matplotlib\n",
    "from numpy import genfromtxt\n",
    "from sklearn.cluster import KMeans\n",
    "from sklearn import svm"
   ]
  },
  {
   "cell_type": "markdown",
   "metadata": {},
   "source": [
    "# Load data"
   ]
  },
  {
   "cell_type": "code",
   "execution_count": 4,
   "metadata": {},
   "outputs": [
    {
     "name": "stdout",
     "output_type": "stream",
     "text": [
      "(175341, 44)\n"
     ]
    }
   ],
   "source": [
    "dataset_name='test.csv'\n",
    "data1=genfromtxt(dataset_name,delimiter=\",\")\n",
    "print(np.shape(data1))"
   ]
  },
  {
   "cell_type": "code",
   "execution_count": 5,
   "metadata": {},
   "outputs": [
    {
     "name": "stdout",
     "output_type": "stream",
     "text": [
      "(82332, 44)\n"
     ]
    }
   ],
   "source": [
    "dataset_tst='train.csv'\n",
    "data2=genfromtxt(dataset_tst,delimiter=\",\")\n",
    "print(np.shape(data2))"
   ]
  },
  {
   "cell_type": "markdown",
   "metadata": {},
   "source": [
    "# Train Test Data "
   ]
  },
  {
   "cell_type": "code",
   "execution_count": 6,
   "metadata": {},
   "outputs": [
    {
     "name": "stdout",
     "output_type": "stream",
     "text": [
      "(56000,)\n",
      "(56000, 42)\n",
      "(119341,)\n",
      "(119341, 42)\n",
      "(175341, 44)\n"
     ]
    }
   ],
   "source": [
    "#train\n",
    "ii = np.where(data1[:,43] == 0)[0]\n",
    "train_x=(data1[ii, 0:42])\n",
    "\n",
    "print(np.shape(ii))\n",
    "print(np.shape(train_x))\n",
    "\n",
    "ii = np.where(data1[:,43]==1)[0] \n",
    "train_x_attack=(data1[ii, 0:42])\n",
    "\n",
    "print(np.shape(ii))\n",
    "print(np.shape(train_x_attack))\n",
    "print(np.shape(data1))"
   ]
  },
  {
   "cell_type": "code",
   "execution_count": 11,
   "metadata": {},
   "outputs": [
    {
     "name": "stdout",
     "output_type": "stream",
     "text": [
      "(37000,)\n",
      "(37000, 42)\n",
      "(45332,)\n",
      "(45332, 42)\n",
      "(82332, 44)\n"
     ]
    }
   ],
   "source": [
    "ii = np.where(data2[:,43] == 0)[0]\n",
    "test_x=(data2[ii, 0:42])\n",
    "\n",
    "print(np.shape(ii))\n",
    "print(np.shape(test_x))\n",
    "\n",
    "#ii = np.where(data2[:,43] == 1)[0]\n",
    "ii = np.where(data2[:,43]==1)[0] \n",
    "test_x_attack=(data2[ii, 0:42])\n",
    "\n",
    "print(np.shape(ii))\n",
    "print(np.shape(test_x_attack))\n",
    "print(np.shape(data2))"
   ]
  },
  {
   "cell_type": "markdown",
   "metadata": {},
   "source": [
    "# OCSVM"
   ]
  },
  {
   "cell_type": "code",
   "execution_count": 33,
   "metadata": {},
   "outputs": [
    {
     "name": "stdout",
     "output_type": "stream",
     "text": [
      "36059\n",
      "64.39107142857142\n"
     ]
    }
   ],
   "source": [
    "#Training\n",
    "OCSVM_classifier=svm.OneClassSVM(nu=0.01, kernel='rbf',degree=5, gamma=0.1)\n",
    "OCSVM_classifier.fit(train_x)\n",
    "y_pred_train = OCSVM_classifier.predict(train_x)\n",
    "\n",
    "n_error_train = y_pred_train[y_pred_train == -1].size\n",
    "print(n_error_train)\n",
    "print(n_error_train*100/np.shape(train_x)[0])\n"
   ]
  },
  {
   "cell_type": "code",
   "execution_count": 34,
   "metadata": {},
   "outputs": [
    {
     "name": "stdout",
     "output_type": "stream",
     "text": [
      "[-1 -1 -1 ..., -1 -1 -1]\n",
      "715\n",
      "0.5991235199973186\n"
     ]
    }
   ],
   "source": [
    "#Testing attack\n",
    "y_pred_train = OCSVM_classifier.predict(train_x_attack)\n",
    "print(y_pred_train)\n",
    "n_error_train = y_pred_train[y_pred_train != -1].size\n",
    "print(n_error_train)\n",
    "print(n_error_train*100/np.shape(train_x_attack)[0])\n",
    "error2=n_error_train"
   ]
  },
  {
   "cell_type": "code",
   "execution_count": null,
   "metadata": {
    "collapsed": true
   },
   "outputs": [],
   "source": []
  },
  {
   "cell_type": "code",
   "execution_count": 35,
   "metadata": {},
   "outputs": [
    {
     "name": "stdout",
     "output_type": "stream",
     "text": [
      "[-1 -1 -1 ...,  1  1 -1]\n",
      "34407\n",
      "92.9918918918919\n"
     ]
    }
   ],
   "source": [
    "#Testing normal\n",
    "y_pred_train = OCSVM_classifier.predict(test_x)\n",
    "print(y_pred_train)\n",
    "n_error_train = y_pred_train[y_pred_train == -1].size\n",
    "print(n_error_train)\n",
    "print(n_error_train*100/np.shape(test_x)[0])\n",
    "error1=n_error_train"
   ]
  },
  {
   "cell_type": "code",
   "execution_count": 36,
   "metadata": {},
   "outputs": [
    {
     "name": "stdout",
     "output_type": "stream",
     "text": [
      "[-1 -1 -1 ..., -1 -1 -1]\n",
      "49\n",
      "0.10809141445336627\n"
     ]
    }
   ],
   "source": [
    "#Testing attack\n",
    "y_pred_train = OCSVM_classifier.predict(test_x_attack)\n",
    "print(y_pred_train)\n",
    "n_error_train = y_pred_train[y_pred_train != -1].size\n",
    "print(n_error_train)\n",
    "print(n_error_train*100/np.shape(test_x_attack)[0])\n",
    "error3=n_error_train"
   ]
  },
  {
   "cell_type": "code",
   "execution_count": 37,
   "metadata": {},
   "outputs": [
    {
     "name": "stdout",
     "output_type": "stream",
     "text": [
      "total test error 17.439617598786153\n",
      "Test Accuracy 82.56038240121384\n"
     ]
    }
   ],
   "source": [
    "print('total test error',((error1+error2+error3)*100/(np.shape(test_x)[0]+np.shape(test_x_attack)[0]+np.shape(train_x_attack)[0]))) \n",
    "print('Test Accuracy',100-((error1+error2+error3)*100/(np.shape(test_x)[0]+np.shape(test_x_attack)[0]+np.shape(train_x_attack)[0]))) "
   ]
  },
  {
   "cell_type": "code",
   "execution_count": null,
   "metadata": {
    "collapsed": true
   },
   "outputs": [],
   "source": []
  },
  {
   "cell_type": "code",
   "execution_count": 18,
   "metadata": {},
   "outputs": [
    {
     "data": {
      "text/plain": [
       "'\\n\\n\\n'"
      ]
     },
     "execution_count": 18,
     "metadata": {},
     "output_type": "execute_result"
    }
   ],
   "source": [
    "\"\"\"\n",
    "\n",
    "\n",
    "\"\"\""
   ]
  },
  {
   "cell_type": "code",
   "execution_count": null,
   "metadata": {
    "collapsed": true
   },
   "outputs": [],
   "source": []
  }
 ],
 "metadata": {
  "anaconda-cloud": {},
  "kernelspec": {
   "display_name": "Python 3",
   "language": "python",
   "name": "python3"
  },
  "language_info": {
   "codemirror_mode": {
    "name": "ipython",
    "version": 3
   },
   "file_extension": ".py",
   "mimetype": "text/x-python",
   "name": "python",
   "nbconvert_exporter": "python",
   "pygments_lexer": "ipython3",
   "version": "3.6.2"
  }
 },
 "nbformat": 4,
 "nbformat_minor": 2
}
