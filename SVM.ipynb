{
 "cells": [
  {
   "cell_type": "code",
   "execution_count": 1,
   "metadata": {
    "collapsed": true
   },
   "outputs": [],
   "source": [
    "import numpy as np\n",
    "import random\n",
    "import matplotlib.pyplot as plt\n",
    "import matplotlib\n",
    "from numpy import genfromtxt\n",
    "from sklearn.cluster import KMeans\n",
    "from sklearn import svm"
   ]
  },
  {
   "cell_type": "markdown",
   "metadata": {},
   "source": [
    "# Load data"
   ]
  },
  {
   "cell_type": "code",
   "execution_count": 2,
   "metadata": {},
   "outputs": [
    {
     "name": "stdout",
     "output_type": "stream",
     "text": [
      "(125973, 44)\n"
     ]
    }
   ],
   "source": [
    "dataset_name='TrainSet_Processed.csv'\n",
    "data1=genfromtxt(dataset_name,delimiter=\",\")\n",
    "print(np.shape(data1))"
   ]
  },
  {
   "cell_type": "code",
   "execution_count": 3,
   "metadata": {},
   "outputs": [
    {
     "name": "stdout",
     "output_type": "stream",
     "text": [
      "(22543, 44)\n"
     ]
    }
   ],
   "source": [
    "dataset_tst='TestSet_Processed.csv'\n",
    "data2=genfromtxt(dataset_tst,delimiter=\",\")\n",
    "print(np.shape(data2))"
   ]
  },
  {
   "cell_type": "markdown",
   "metadata": {},
   "source": [
    "# Train Test Data "
   ]
  },
  {
   "cell_type": "code",
   "execution_count": 4,
   "metadata": {},
   "outputs": [
    {
     "name": "stdout",
     "output_type": "stream",
     "text": [
      "(67343,)\n",
      "(67343, 41)\n",
      "(41214,)\n",
      "(41214, 41)\n",
      "(125973, 44)\n"
     ]
    }
   ],
   "source": [
    "#train\n",
    "ii = np.where(data1[:,43] == 0)[0]\n",
    "train_x=(data1[ii, 0:41])\n",
    "\n",
    "print(np.shape(ii))\n",
    "print(np.shape(train_x))\n",
    "\n",
    "ii = np.where(data1[:,41]==1)[0] #only neptune attack type\n",
    "train_x_attack=(data1[ii, 0:41])\n",
    "\n",
    "print(np.shape(ii))\n",
    "print(np.shape(train_x_attack))\n",
    "print(np.shape(data1))\n"
   ]
  },
  {
   "cell_type": "code",
   "execution_count": 31,
   "metadata": {},
   "outputs": [
    {
     "name": "stdout",
     "output_type": "stream",
     "text": [
      "(9710,)\n",
      "(9710, 41)\n",
      "(12833,)\n",
      "(12833, 41)\n",
      "(22543, 44)\n"
     ]
    }
   ],
   "source": [
    "ii = np.where(data2[:,43] == 0)[0]\n",
    "test_x=(data2[ii, 0:41])\n",
    "\n",
    "print(np.shape(ii))\n",
    "print(np.shape(test_x))\n",
    "\n",
    "#ii = np.where(data2[:,43] == 1)[0]\n",
    "ii = np.where(data2[:,43]==1)[0] #only neptune attack type\n",
    "test_x_attack=(data2[ii, 0:41])\n",
    "\n",
    "print(np.shape(ii))\n",
    "print(np.shape(test_x_attack))\n",
    "print(np.shape(data2))"
   ]
  },
  {
   "cell_type": "markdown",
   "metadata": {},
   "source": [
    "# OCSVM"
   ]
  },
  {
   "cell_type": "code",
   "execution_count": 32,
   "metadata": {},
   "outputs": [
    {
     "name": "stdout",
     "output_type": "stream",
     "text": [
      "(20000, 41)\n",
      "(20000,)\n"
     ]
    }
   ],
   "source": [
    "#Training\n",
    "from sklearn.svm import SVC\n",
    "train_x_y=np.zeros(10000)\n",
    "train_x_attack_y=np.ones(10000)\n",
    "X=np.concatenate((train_x, train_x_attack), axis=0)\n",
    "Y=np.concatenate((train_x_y, train_x_attack_y), axis=0)\n",
    "\n",
    "\"\"\"\n",
    "X1=train_x[0:10000,:]\n",
    "X2=train_x_attack[0:10000,:]\n",
    "X=np.concatenate((X1, X2), axis=0)\n",
    "\"\"\"\n",
    "\n",
    "\n",
    "\n",
    "print(np.shape(X))\n",
    "print(np.shape(Y))\n"
   ]
  },
  {
   "cell_type": "code",
   "execution_count": 33,
   "metadata": {},
   "outputs": [
    {
     "data": {
      "text/plain": [
       "SVC(C=0.1, cache_size=200, class_weight=None, coef0=0.0,\n",
       "  decision_function_shape='ovr', degree=2, gamma=0.7, kernel='poly',\n",
       "  max_iter=-1, probability=False, random_state=None, shrinking=True,\n",
       "  tol=0.001, verbose=False)"
      ]
     },
     "execution_count": 33,
     "metadata": {},
     "output_type": "execute_result"
    }
   ],
   "source": [
    "clf = SVC(kernel='poly',degree=2, gamma=0.7, C=0.1)\n",
    "\n",
    "clf.fit(X, Y) "
   ]
  },
  {
   "cell_type": "code",
   "execution_count": 34,
   "metadata": {},
   "outputs": [],
   "source": [
    "#Testing normal train data\n",
    "Data=X1\n",
    "dim=np.shape(Data)\n",
    "y_pred_train=clf.predict(Data)\n"
   ]
  },
  {
   "cell_type": "code",
   "execution_count": 35,
   "metadata": {},
   "outputs": [
    {
     "name": "stdout",
     "output_type": "stream",
     "text": [
      "[ 0.  0.  0. ...,  0.  0.  0.]\n",
      "error 0.0\n"
     ]
    }
   ],
   "source": [
    "print(y_pred_train)\n",
    "n_error_train = y_pred_train[y_pred_train == 1].size\n",
    "print('error',(n_error_train*100/dim[0])) "
   ]
  },
  {
   "cell_type": "code",
   "execution_count": 36,
   "metadata": {},
   "outputs": [
    {
     "name": "stdout",
     "output_type": "stream",
     "text": [
      "error 0.0\n"
     ]
    }
   ],
   "source": [
    "#Testing attack train data\n",
    "Data=train_x_attack[0:10000,:]\n",
    "dim=np.shape(Data)\n",
    "y_pred_train=clf.predict(Data)\n",
    "\n",
    "n_error_train = y_pred_train[y_pred_train == 0].size\n",
    "print('error',(n_error_train*100/dim[0])) "
   ]
  },
  {
   "cell_type": "code",
   "execution_count": 37,
   "metadata": {},
   "outputs": [
    {
     "name": "stdout",
     "output_type": "stream",
     "text": [
      "error 5.272914521112256\n"
     ]
    }
   ],
   "source": [
    "#Testing normal test data\n",
    "Data=test_x\n",
    "dim=np.shape(Data)\n",
    "y_pred_train=clf.predict(Data)\n",
    "n_error_train = y_pred_train[y_pred_train == 1].size\n",
    "print('error',(n_error_train*100/dim[0]))"
   ]
  },
  {
   "cell_type": "code",
   "execution_count": 38,
   "metadata": {},
   "outputs": [
    {
     "name": "stdout",
     "output_type": "stream",
     "text": [
      "error 58.48983090469882\n"
     ]
    }
   ],
   "source": [
    "#Testing normal test data\n",
    "Data=test_x_attack\n",
    "dim=np.shape(Data)\n",
    "y_pred_train=clf.predict(Data)\n",
    "n_error_train = y_pred_train[y_pred_train == 0].size\n",
    "print('error',(n_error_train*100/dim[0]))"
   ]
  },
  {
   "cell_type": "code",
   "execution_count": null,
   "metadata": {
    "collapsed": true
   },
   "outputs": [],
   "source": []
  }
 ],
 "metadata": {
  "anaconda-cloud": {},
  "kernelspec": {
   "display_name": "Python [default]",
   "language": "python",
   "name": "python3"
  },
  "language_info": {
   "codemirror_mode": {
    "name": "ipython",
    "version": 3
   },
   "file_extension": ".py",
   "mimetype": "text/x-python",
   "name": "python",
   "nbconvert_exporter": "python",
   "pygments_lexer": "ipython3",
   "version": "3.5.6"
  }
 },
 "nbformat": 4,
 "nbformat_minor": 2
}
