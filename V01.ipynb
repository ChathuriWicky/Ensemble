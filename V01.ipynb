{
 "cells": [
  {
   "cell_type": "code",
   "execution_count": 6,
   "metadata": {
    "collapsed": false
   },
   "outputs": [
    {
     "name": "stdout",
     "output_type": "stream",
     "text": [
      "Extracting MNIST_data/train-images-idx3-ubyte.gz\n",
      "Extracting MNIST_data/train-labels-idx1-ubyte.gz\n",
      "Extracting MNIST_data/t10k-images-idx3-ubyte.gz\n",
      "Extracting MNIST_data/t10k-labels-idx1-ubyte.gz\n"
     ]
    }
   ],
   "source": [
    "#\n",
    "import numpy as np\n",
    "import random\n",
    "import matplotlib.pyplot as plt\n",
    "import matplotlib\n",
    "from tensorflow.examples.tutorials.mnist import input_data\n",
    "mnist = input_data.read_data_sets('MNIST_data', one_hot=True)"
   ]
  },
  {
   "cell_type": "code",
   "execution_count": 10,
   "metadata": {
    "collapsed": false
   },
   "outputs": [
    {
     "name": "stdout",
     "output_type": "stream",
     "text": [
      "(55000, 784)\n"
     ]
    }
   ],
   "source": [
    "batch_x, train_y= mnist.train.next_batch(55000) \n",
    "print(batch_x.shape)"
   ]
  },
  {
   "cell_type": "code",
   "execution_count": 46,
   "metadata": {
    "collapsed": true
   },
   "outputs": [],
   "source": [
    "\n",
    "class SOM(object):\n",
    "    def __init__(self, m, n):\n",
    "        self.net_dim = np.array([m, n])\n",
    "        self.weights = None\n",
    "        self.hit_map = np.zeros([self.net_dim[0], self.net_dim[1]])\n",
    "        self.init_radius = np.max(self.net_dim)/2\n",
    "        self.umatrix = np.zeros([self.net_dim[0], self.net_dim[1]])\n",
    "        self.umat_2 = np.zeros([self.net_dim[0]*2 - 1, self.net_dim[1]*2 - 1])\n",
    "        self.bmu_list = None\n",
    "        self.label_map = np.zeros([self.net_dim[0], self.net_dim[1]]) + -1\n",
    "        self.classif_log=None # matrix for storing data for each neu, #times it becomed BMU for each class\n",
    "        self.neu_class=np.zeros([m*n])# store class for each neuron \n",
    "        self.trainAccuracy=None\n",
    "        self.testAccuracy=None\n",
    "\n",
    "    def fit_model(self, train_x, train_y=None, init_lr=0.1, epochs=100):\n",
    "        # Initializing the weight matrix\n",
    "        self.weights = np.random.random((self.net_dim[0], self.net_dim[1], train_x.shape[1]))\n",
    "        self.bmu_list = np.zeros(train_x.shape[0])\n",
    "        time_constant = epochs/np.log(self.init_radius)\n",
    "        \n",
    "        if not (train_y is None):\n",
    "            #print(\"np.unique(train_y).shape[0]\",np.unique(train_y).shape[0])\n",
    "            self.classif_log=np.zeros([np.unique(train_y).shape[0] , self.net_dim[0]*self.net_dim[1]])\n",
    "\n",
    "        for epoch in range(epochs):\n",
    "            print('Processing epoch:{}'.format(epoch))\n",
    "            \"\"\"decay the radius and the learning rate\"\"\"\n",
    "            if epoch != 0:\n",
    "                radius = SOM.decay_radius(self.init_radius,epoch, time_constant)\n",
    "                lr = SOM.decay_learning_rate(init_lr, epoch, epochs)\n",
    "\n",
    "            else:\n",
    "                radius = self.init_radius\n",
    "                lr = init_lr\n",
    "\n",
    "            #print(\"train_x.shape[0]\",train_x.shape[0])            \n",
    "            randlist=random.sample(range(train_x.shape[0]), train_x.shape[0])\n",
    "            for t in range(train_x.shape[0]):\n",
    "\n",
    "                # Picking a random pattern\n",
    "                r = randlist[t]                \n",
    "                # Finding the bmu for the random pattern\n",
    "                bmu_index, bmu = self.find_bmu(train_x[r, :])\n",
    "                #print(\"bmu_index : \",bmu_index) \n",
    "                self.bmu_list[r] = bmu_index[0]*self.weights.shape[1] + bmu_index[1]\n",
    "                #print(\"self.bmu_list[r] :: \",self.bmu_list[r])\n",
    "\n",
    "                # updating the weights\n",
    "                for i in range(self.net_dim[0]):\n",
    "                    for j in range(self.net_dim[1]):\n",
    "                        w = self.weights[i, j, :]\n",
    "                        w_bmu_dist = SOM.get_distance(w, bmu)\n",
    "\n",
    "                        h = self.get_gaussian_membership(w_bmu_dist, radius)\n",
    "                        delta_w = (lr * h * (train_x[r, :] - w))\n",
    "                        new_w = w + delta_w\n",
    "                        self.weights[i, j, :] = new_w                        \n",
    "                        if np.isnan(self.weights).any():\n",
    "                            print(' weights NaN at epoch {}'.format(epoch))\n",
    "\n",
    "                            return\n",
    "                        # print('\\n')\n",
    "            ##\n",
    "            if not (train_y is None) :       \n",
    "                for t in range(train_x.shape[0]):\n",
    "                    bmu_index, bmu = self.find_bmu(train_x[t, :])\n",
    "                    self.bmu_list[t] = bmu_index[0]*self.weights.shape[1] + bmu_index[1]\n",
    "                    #print(\"self.bmu_list[r]\",self.bmu_list[r])\n",
    "                    self.classif_log[int(train_y[t]),int(self.bmu_list[t])]=(self.classif_log[int(train_y[t]),int(self.bmu_list[t])])+1\n",
    "                print(\"Train Accuracy\",(sum(self.classif_log.max(axis=0))*100)/ (train_x.shape[0]) )\n",
    "                self.classif_log=np.zeros([np.unique(train_y).shape[0] , self.net_dim[0]*self.net_dim[1]])\n",
    "                self.trainAccuracy=(sum(self.classif_log.max(axis=0))*100)/ (train_x.shape[0])\n",
    " \n",
    "        if not (train_y is None) :       \n",
    "            for t in range(train_x.shape[0]):\n",
    "                bmu_index, bmu = self.find_bmu(train_x[t, :])\n",
    "                self.bmu_list[t] = bmu_index[0]*self.weights.shape[1] + bmu_index[1]\n",
    "                #print(\"self.bmu_list[r]\",self.bmu_list[r])\n",
    "                \"\"\"                    \n",
    "                print(\"bla\", bmu_index,bmu ,\" t\",t) # bla [0, 2] [-0.002496    0.00031421 -0.00322767] print(\"Train y val :\",int(train_y[t]))\n",
    "                print(\"self.bmu_list :\",int(self.bmu_list[t]))\n",
    "                \"\"\"\n",
    "                #print(\"int(train_y[t])\",int(train_y[t]) )\n",
    "                #print(\"int(self.bmu_list[t])\",int(self.bmu_list[t]))\n",
    "                self.classif_log[int(train_y[t]),int(self.bmu_list[t])]=(self.classif_log[int(train_y[t]),int(self.bmu_list[t])])+1\n",
    "                        \n",
    "            print(\"Check \\n\",self.classif_log)        \n",
    "            self.neu_class=self.classif_log.argmax(axis=0) \n",
    "            print(\"self.neu_class\",self.neu_class)\n",
    "            print(\"Train Accuracy\",(sum(self.classif_log.max(axis=0))*100)/ (train_x.shape[0]) )\n",
    "            self.trainAccuracy=(sum(self.classif_log.max(axis=0))*100)/ (train_x.shape[0])\n",
    "        self.set_umatrix()\n",
    "        self.set_hitmap()\n",
    "        #now test for accuracy\n",
    "        #if train_y is not None:\n",
    "            #self.set_label_map(train_y)#this needs checking cz it prints something \n",
    "        \n",
    "    def test_model(self, test_x, test_y=None):\n",
    "        \n",
    "        correct=0;\n",
    "        \n",
    "        for t in range(test_x.shape[0]):\n",
    "            bmu_index, bmu = self.find_bmu(test_x[t, :])\n",
    "            neu_no=bmu_index[0]*self.weights.shape[1] + bmu_index[1]\n",
    "            #print(\"neu_no : \",neu_no)\n",
    "            class_label=self.neu_class[neu_no]\n",
    "\n",
    "            if(class_label==test_y[t]):\n",
    "                correct=correct+1\n",
    "        print(\"Test Accuracy : \", (correct*100/test_x.shape[0]))\n",
    "        self.testAccuracy=(correct*100/test_x.shape[0])\n",
    "\n",
    "\n",
    "\n",
    "    def find_bmu(self, x):\n",
    "        min_dist = float('inf')\n",
    "        bmu_index = [-1, -1]\n",
    "        bmu = self.weights[0, 0, :]\n",
    "        for i in range(self.net_dim[0]):\n",
    "            for j in range(self.net_dim[1]):\n",
    "                w = self.weights[i, j, :]\n",
    "                d = SOM.get_distance(x, w)\n",
    "                #print(\"d : \",d)\n",
    "                if d < min_dist:\n",
    "                    min_dist = d\n",
    "                    bmu_index = [i, j]\n",
    "                    bmu = w\n",
    "\n",
    "        return bmu_index, bmu\n",
    "\n",
    "    def get_gaussian_membership(self, squared_distance_from_bmu, radius):\n",
    "        h = np.exp(-squared_distance_from_bmu/(2*(radius**2)))\n",
    "        # h = np.exp(squared_distance_from_bmu/(2*(radius**2)))\n",
    "        # print('h:{}'.format(h))\n",
    "        return h\n",
    "\n",
    "    def set_hitmap(self):\n",
    "        unique, counts = np.unique(self.bmu_list, return_counts=True)\n",
    "        #print(\"unique\",unique)\n",
    "        #print(\"counts\",counts)\n",
    "        bmu_dict = dict(zip(unique.astype(int), counts))\n",
    "\n",
    "        for bmu, count in bmu_dict.items():\n",
    "            i = int(bmu / self.label_map.shape[1])\n",
    "            j = bmu % self.label_map.shape[1]\n",
    "            self.hit_map[i, j] = count\n",
    "            \n",
    "        #print(np.shape(self.hit_map))\n",
    "\n",
    "    def set_label_map(self, train_y):\n",
    "        # print(self.label_map)\n",
    "\n",
    "        unique, counts = np.unique(self.bmu_list, return_counts=True)\n",
    "        bmu_dict = dict(zip(unique.astype(int), counts))\n",
    "        print(bmu_dict)\n",
    "\n",
    "        for bmu, count in bmu_dict.items():\n",
    "            # print('bmu: {}, count: {}'.format(bmu, count))\n",
    "            # print(self.bmu_list[self.bmu_list == bmu])\n",
    "            idx = np.where(self.bmu_list == bmu)\n",
    "            unique_labels, label_counts = np.unique(train_y[idx], return_counts=True)\n",
    "\n",
    "            labels_dict = dict(zip(unique_labels.astype(int), label_counts))\n",
    "            # print(labels_dict)\n",
    "\n",
    "            import operator\n",
    "            # print(max(labels_dict.items(), key=operator.itemgetter(1))[0])\n",
    "\n",
    "            i = int(bmu / self.label_map.shape[1])\n",
    "            j = bmu % self.label_map.shape[1]\n",
    "\n",
    "            self.label_map[i, j] = max(labels_dict.items(), key=operator.itemgetter(1))[0]\n",
    "\n",
    "    @classmethod\n",
    "    def get_distance(cls, x1, x2):\n",
    "        return np.sum((x1 - x2) ** 2)\n",
    "\n",
    "    @classmethod\n",
    "    def decay_radius(cls, init_radius, e, time_constant):\n",
    "        return init_radius * np.exp(-e / time_constant)\n",
    "\n",
    "    @classmethod\n",
    "    def decay_learning_rate(cls, init_lr, e, num_epochs):\n",
    "        return init_lr * np.exp(-e / num_epochs)\n",
    "\n",
    "    @classmethod\n",
    "    def draw_square(cls, x, y, dim, color):\n",
    "        rect = plt.Rectangle((x, y), dim, dim, fc=color)\n",
    "\n",
    "        return rect\n",
    "\n",
    "    def show_hitmap(self, show_hits=False):\n",
    "        print(\"show hit map\")\n",
    "        #fig, ax = plt.subplots()\n",
    "        plt.figure()\n",
    "        plt.imshow(self.hit_map, cmap='jet')\n",
    "        plt.title('Hit map')\n",
    "        plt.colorbar()        \n",
    "        if show_hits:\n",
    "            for i in range(self.net_dim[0]):\n",
    "                for j in range(self.net_dim[1]):\n",
    "                    c = self.hit_map[j,i]\n",
    "                    plt.text(i, j, str(c), va='center', ha='center')    \n",
    "        plt.show()\n",
    "        \n",
    "    def show_umatrix(self):\n",
    "        plt.figure()\n",
    "        plt.imshow(self.umatrix, cmap='jet')\n",
    "        plt.title('U-Matrix')\n",
    "        plt.colorbar()\n",
    "        plt.draw()\n",
    "        plt.show()\n",
    "\n",
    "    def set_umatrix(self, nbhd='neumann'):\n",
    "        for i in range(self.weights.shape[0]):\n",
    "            for j in range(self.weights.shape[1]):\n",
    "                self.umatrix[i, j] = self.calculate_average_distance([i, j], nbhd=nbhd)\n",
    "\n",
    "    def calculate_average_distance(self, index, nbhd='neumann'):\n",
    "        avg_distance = -1\n",
    "\n",
    "        if nbhd == 'neumann':\n",
    "            n = np.zeros([4])\n",
    "            div = 4\n",
    "            x = index[0]\n",
    "            y = index[1]\n",
    "            # Above\n",
    "            if (x - 1) >= 0:\n",
    "                n[0] = np.sqrt(SOM.get_distance(self.weights[x - 1, y, :], self.weights[x, y, :]))\n",
    "            else:\n",
    "                div -= 1\n",
    "            # Below\n",
    "            if (x + 1) < self.weights.shape[0]:\n",
    "                n[1] = np.sqrt(SOM.get_distance(self.weights[x + 1, y, :], self.weights[x, y, :]))\n",
    "            else:\n",
    "                div -= 1\n",
    "            # Left\n",
    "            if (y - 1) >= 0:\n",
    "                n[2] = np.sqrt(SOM.get_distance(self.weights[x, y - 1, :], self.weights[x, y, :]))\n",
    "            else:\n",
    "                div -= 1\n",
    "            # Right\n",
    "            if (y + 1) < self.weights.shape[1]:\n",
    "                n[3] = np.sqrt(SOM.get_distance(self.weights[x, y + 1, :], self.weights[x, y, :]))\n",
    "            else:\n",
    "                div -= 1\n",
    "\n",
    "            avg_distance = np.sum(n) / div\n",
    "        elif nbhd == 'moore':\n",
    "            # TODO implement for moore neighborhood\n",
    "            pass\n",
    "\n",
    "        else:\n",
    "            print('Not a valid Neighborhood')\n",
    "\n",
    "        return avg_distance\n",
    "\n",
    "    def set_umat_2(self):\n",
    "        # TODO: Need to optimize this code\n",
    "        r = 0\n",
    "        for i in range(self.net_dim[0]):\n",
    "            c = 0\n",
    "            for j in range(self.net_dim[1]):\n",
    "                if c+1 < self.umat_2.shape[1]:\n",
    "                    self.umat_2[r, c+1] = SOM.get_distance(self.weights[i, j, :], self.weights[i, j+1, :])\n",
    "\n",
    "                if r+1 < self.umat_2.shape[0]:\n",
    "                    self.umat_2[r+1, c] = SOM.get_distance(self.weights[i, j, :], self.weights[i+1, j, :])\n",
    "                c = c+2\n",
    "            r = r+2\n",
    "\n",
    "        temp = np.zeros([self.umat_2.shape[0], self.umat_2.shape[1], self.weights.shape[2]])\n",
    "        r = 0\n",
    "        for i in range(0, self.umat_2.shape[0], 2):\n",
    "            c = 0\n",
    "            for j in range(0, self.umat_2.shape[1],2):\n",
    "                temp[i, j] = self.weights[r, c, :]\n",
    "\n",
    "                c += 1\n",
    "            r += 1\n",
    "\n",
    "        for i in range(self.umat_2.shape[0]):\n",
    "            for j in range(self.umat_2.shape[1]):\n",
    "                if i % 2 != 0 and j % 2 != 0:\n",
    "                    self.umat_2[i, j] = (SOM.get_distance(temp[i-1, j-1, :], temp[i+1, j+1, :]) +\n",
    "                                         SOM.get_distance(temp[i-1, j+1, :], temp[i+1, j-1, :]))/2\n",
    "\n",
    "    def show_umatrx_2(self, size=2):\n",
    "        max_dist = np.max(self.umat_2)\n",
    "        print(max_dist)\n",
    "        cmap = matplotlib.pyplot.get_cmap('jet', lut=256)\n",
    "        plt.figure()\n",
    "        plt.imshow(self.umat_2, cmap='jet')\n",
    "        plt.title('U-Matrix')\n",
    "        plt.colorbar()\n",
    "        plt.draw()\n",
    "        plt.show()\n",
    "        \n",
    "    def print_save_weights(self,fileName):\n",
    "        \"\"\"\n",
    "        for i in range(self.weights.shape[0]):\n",
    "            print(self.weights[i,:]) \n",
    "        \"\"\"  \n",
    "        np.save(fileName,self.weights)\n",
    "        #print(\"load: \\n\", np.load('maximums.npy'))\n",
    "\n",
    "def standardize_data(X):\n",
    "    x_norm = (X - X.mean(axis=0)) / X.std(axis=0)\n",
    "    return x_norm\n",
    "    from tempfile import TemporaryFile   \n"
   ]
  },
  {
   "cell_type": "code",
   "execution_count": 19,
   "metadata": {
    "collapsed": false
   },
   "outputs": [
    {
     "name": "stdout",
     "output_type": "stream",
     "text": [
      "<class 'numpy.ndarray'>\n",
      "(3000, 784)\n",
      "<class 'numpy.ndarray'>\n",
      "(3000,)\n",
      "Processing epoch:0\n",
      "Train Accuracy 47.3333333333\n",
      "Processing epoch:1\n",
      "Train Accuracy 51.9333333333\n",
      "Processing epoch:2\n",
      "Train Accuracy 57.1333333333\n",
      "Processing epoch:3\n",
      "Train Accuracy 57.7666666667\n",
      "Processing epoch:4\n",
      "Train Accuracy 58.0\n",
      "Check \n",
      " [[   0.   13.    3.    3.   11.  226.   44.    0.    0.]\n",
      " [   0.    1.    2.    1.    1.    0.    0.  295.    0.]\n",
      " [   9.    4.   11.  203.   17.    3.    5.   45.    3.]\n",
      " [   0.    0.   38.   16.  213.    1.    7.   23.    2.]\n",
      " [ 112.    9.    1.    4.    0.    1.    3.   21.  149.]\n",
      " [  20.    1.   60.    1.  115.    4.   29.   52.   18.]\n",
      " [   0.  133.    0.    0.    2.    0.  152.   11.    2.]\n",
      " [ 197.    2.    1.    2.    1.    2.    0.   31.   64.]\n",
      " [   7.    4.  167.    6.   55.    2.    3.   37.   19.]\n",
      " [ 117.    0.    6.    1.    2.    4.    0.   16.  154.]]\n",
      "self.neu_class [7 6 8 2 3 0 6 1 9]\n",
      "Train Accuracy 58.0\n"
     ]
    }
   ],
   "source": [
    "\n",
    "if __name__ == '__main__':\n",
    "    som = SOM(3, 3)\n",
    "\n",
    "    train_x, train_y= mnist.train.next_batch(3000)\n",
    "    '''\n",
    "    print(type(train_x))\n",
    "    print(np.shape(train_x))\n",
    "    print(type(train_y))\n",
    "    print(np.shape(train_y))\n",
    "    \n",
    "\n",
    "    train_y=train_y.argmax(axis=1) \n",
    "    print(train_y)\n",
    "    print(train_y.shape)\n",
    "    print(train_x.shape)\n",
    "    '''\n",
    "    from numpy import genfromtxt\n",
    "    train_x = genfromtxt('traindata.csv', delimiter=',')\n",
    "    print(type(train_x))\n",
    "    print(np.shape(train_x))\n",
    "\n",
    "    train_y = genfromtxt('traindata_label.csv', delimiter=',')\n",
    "    print(type(train_y))\n",
    "    print(np.shape(train_y))\n",
    "    \n",
    "\n",
    "    som.fit_model(train_x,train_y, epochs=5)\n"
   ]
  },
  {
   "cell_type": "code",
   "execution_count": 20,
   "metadata": {
    "collapsed": false
   },
   "outputs": [
    {
     "name": "stdout",
     "output_type": "stream",
     "text": [
      "<class 'numpy.ndarray'>\n",
      "(10000, 784)\n",
      "<class 'numpy.ndarray'>\n",
      "(10000,)\n",
      "Test Accuracy :  58.5\n"
     ]
    },
    {
     "data": {
      "text/plain": [
       "58.5"
      ]
     },
     "execution_count": 20,
     "metadata": {},
     "output_type": "execute_result"
    }
   ],
   "source": [
    "test_x = genfromtxt('testdata0.csv', delimiter=',')\n",
    "print(type(test_x))\n",
    "print(np.shape(test_x))\n",
    "\n",
    "test_y = genfromtxt('testdata_class.csv', delimiter=',')\n",
    "print(type(test_y))\n",
    "print(np.shape(test_y))\n",
    "\n",
    "som.test_model(test_x,test_y)\n",
    "som.testAccuracy"
   ]
  },
  {
   "cell_type": "code",
   "execution_count": 24,
   "metadata": {
    "collapsed": true
   },
   "outputs": [],
   "source": [
    "data1=genfromtxt('KDDTrainset.csv',delimiter=\",\")"
   ]
  },
  {
   "cell_type": "code",
   "execution_count": 47,
   "metadata": {
    "collapsed": false
   },
   "outputs": [
    {
     "name": "stdout",
     "output_type": "stream",
     "text": [
      "125973\n",
      "(125973, 44)\n",
      "[  0.00000000e+00   2.00000000e+00   4.00000000e+01   1.00000000e+00\n",
      "   1.46000000e+02   0.00000000e+00   0.00000000e+00   0.00000000e+00\n",
      "   0.00000000e+00   0.00000000e+00   0.00000000e+00   0.00000000e+00\n",
      "   0.00000000e+00   0.00000000e+00   0.00000000e+00   0.00000000e+00\n",
      "   0.00000000e+00   0.00000000e+00   0.00000000e+00   0.00000000e+00\n",
      "   0.00000000e+00   0.00000000e+00   1.30000000e+01   1.00000000e+00\n",
      "   0.00000000e+00   0.00000000e+00   0.00000000e+00   0.00000000e+00\n",
      "   8.00000000e-02   1.50000000e-01   0.00000000e+00   2.55000000e+02\n",
      "   1.00000000e+00   0.00000000e+00   6.00000000e-01   8.80000000e-01\n",
      "   0.00000000e+00   0.00000000e+00   0.00000000e+00   0.00000000e+00\n",
      "   0.00000000e+00   1.20000000e+01   1.50000000e+01   1.00000000e+00]\n"
     ]
    }
   ],
   "source": [
    "print(len(data1))\n",
    "print(np.shape(data1))\n",
    "print(data1[1,:])"
   ]
  },
  {
   "cell_type": "code",
   "execution_count": 48,
   "metadata": {
    "collapsed": false
   },
   "outputs": [
    {
     "name": "stdout",
     "output_type": "stream",
     "text": [
      "(20000, 41)\n",
      "(20000,)\n"
     ]
    }
   ],
   "source": [
    "train_x=data1[0:20000,0:41]\n",
    "print(np.shape(train_x))\n",
    "train_y=data1[0:20000,43]\n",
    "print(np.shape(train_y))"
   ]
  },
  {
   "cell_type": "code",
   "execution_count": 49,
   "metadata": {
    "collapsed": true
   },
   "outputs": [],
   "source": [
    "som = SOM(8, 8)"
   ]
  },
  {
   "cell_type": "code",
   "execution_count": 50,
   "metadata": {
    "collapsed": false
   },
   "outputs": [
    {
     "name": "stdout",
     "output_type": "stream",
     "text": [
      "Processing epoch:0\n",
      "Train Accuracy 94.94\n",
      "Processing epoch:1\n",
      "Train Accuracy 95.22\n",
      "Processing epoch:2\n",
      "Train Accuracy 94.335\n",
      "Processing epoch:3\n",
      "Train Accuracy 94.76\n",
      "Processing epoch:4\n",
      "Train Accuracy 94.805\n",
      "Check \n",
      " [[  6.00000000e+01   1.00000000e+00   1.00000000e+00   4.20000000e+01\n",
      "    4.60000000e+01   3.38900000e+03   0.00000000e+00   0.00000000e+00\n",
      "    2.34000000e+02   2.00000000e+00   0.00000000e+00   1.50000000e+01\n",
      "    0.00000000e+00   1.50000000e+01   2.00000000e+00   0.00000000e+00\n",
      "    9.00000000e+00   3.20000000e+01   0.00000000e+00   1.50000000e+02\n",
      "    1.02000000e+02   3.00000000e+00   4.00000000e+00   3.00000000e+00\n",
      "    0.00000000e+00   0.00000000e+00   5.00000000e+00   2.00000000e+00\n",
      "    1.00000000e+00   4.00000000e+00   0.00000000e+00   2.00000000e+01\n",
      "    0.00000000e+00   2.00000000e+00   2.10000000e+01   1.08000000e+02\n",
      "    9.10000000e+01   8.00000000e+00   0.00000000e+00   3.00000000e+00\n",
      "    7.00000000e+00   1.18000000e+03   1.70000000e+01   2.60000000e+01\n",
      "    6.80000000e+01   1.10000000e+02   2.63100000e+03   0.00000000e+00\n",
      "    0.00000000e+00   2.00000000e+00   0.00000000e+00   0.00000000e+00\n",
      "    0.00000000e+00   1.84000000e+02   2.20000000e+02   0.00000000e+00\n",
      "    2.30000000e+01   1.00000000e+00   1.04000000e+02   1.20000000e+01\n",
      "    9.30000000e+01   1.49000000e+02   2.00000000e+00   1.03000000e+02]\n",
      " [  0.00000000e+00   3.60000000e+02   6.00000000e+00   3.00000000e+00\n",
      "    5.77000000e+02   3.00000000e+00   7.10000000e+01   2.40000000e+01\n",
      "    0.00000000e+00   9.40000000e+01   1.20000000e+01   7.01000000e+02\n",
      "    1.10000000e+01   5.40000000e+01   1.17000000e+02   2.32000000e+02\n",
      "    4.40000000e+01   2.70000000e+01   1.80000000e+01   1.10000000e+01\n",
      "    5.00000000e+01   2.53000000e+02   8.80000000e+01   1.40000000e+01\n",
      "    1.16000000e+02   9.10000000e+01   4.80000000e+01   1.33000000e+02\n",
      "    0.00000000e+00   2.00000000e+00   1.06700000e+03   1.70000000e+01\n",
      "    3.16000000e+02   4.11000000e+02   1.92000000e+02   6.20000000e+01\n",
      "    7.80000000e+01   7.90000000e+01   7.53000000e+02   3.55000000e+02\n",
      "    4.70000000e+01   1.68000000e+02   5.10000000e+01   1.03000000e+02\n",
      "    1.13000000e+02   0.00000000e+00   5.00000000e+00   2.66000000e+02\n",
      "    2.76000000e+02   2.66000000e+02   6.01000000e+02   6.47000000e+02\n",
      "    6.10000000e+01   5.50000000e+01   3.80000000e+01   4.03000000e+02\n",
      "    1.50000000e+02   3.54000000e+02   7.90000000e+01   1.53000000e+02\n",
      "    1.02000000e+02   1.70000000e+01   2.17000000e+02   3.10000000e+01]]\n",
      "self.neu_class [0 1 1 0 1 0 1 1 0 1 1 1 1 1 1 1 1 0 1 0 0 1 1 1 1 1 1 1 0 0 1 0 1 1 1 0 0\n",
      " 1 1 1 1 0 1 1 1 0 0 1 1 1 1 1 1 0 0 1 1 1 0 1 1 0 1 0]\n",
      "Train Accuracy 94.805\n"
     ]
    }
   ],
   "source": [
    "som.fit_model(train_x,train_y, epochs=5)"
   ]
  },
  {
   "cell_type": "code",
   "execution_count": 51,
   "metadata": {
    "collapsed": false
   },
   "outputs": [
    {
     "name": "stdout",
     "output_type": "stream",
     "text": [
      "show hit map\n"
     ]
    },
    {
     "data": {
      "image/png": "[encoded data removed]",
      "text/plain": [
       "<matplotlib.figure.Figure at 0x7f7b063e5630>"
      ]
     },
     "metadata": {},
     "output_type": "display_data"
    },
    {
     "data": {
      "image/png": "[encoded data removed]",
      "text/plain": [
       "<matplotlib.figure.Figure at 0x7f7b0bc02fd0>"
      ]
     },
     "metadata": {},
     "output_type": "display_data"
    }
   ],
   "source": [
    "som.show_hitmap(True)\n",
    "plt.show()\n",
    "\n",
    "som.set_umatrix()\n",
    "som.show_umatrix()"
   ]
  },
  {
   "cell_type": "code",
   "execution_count": 133,
   "metadata": {
    "collapsed": false
   },
   "outputs": [
    {
     "name": "stdout",
     "output_type": "stream",
     "text": [
      "(20000, 41)\n",
      "(20000,)\n",
      "Test Accuracy :  94.82474123706186\n"
     ]
    },
    {
     "data": {
      "text/plain": [
       "94.82474123706186"
      ]
     },
     "execution_count": 133,
     "metadata": {},
     "output_type": "execute_result"
    }
   ],
   "source": [
    "test_x=data1[20001:40000,0:41]\n",
    "print(np.shape(train_x))\n",
    "test_y=data1[20001:40000,43]\n",
    "print(np.shape(train_y))\n",
    "som.test_model(test_x,test_y)\n",
    "som.testAccuracy"
   ]
  },
  {
   "cell_type": "code",
   "execution_count": 53,
   "metadata": {
    "collapsed": false
   },
   "outputs": [],
   "source": [
    "som.print_save_weights('bla')"
   ]
  },
  {
   "cell_type": "code",
   "execution_count": 55,
   "metadata": {
    "collapsed": false
   },
   "outputs": [],
   "source": [
    "points=np.load('bla.npy')"
   ]
  },
  {
   "cell_type": "code",
   "execution_count": 56,
   "metadata": {
    "collapsed": false
   },
   "outputs": [
    {
     "name": "stdout",
     "output_type": "stream",
     "text": [
      "(8, 8, 41)\n"
     ]
    }
   ],
   "source": [
    "print(np.shape(points))"
   ]
  },
  {
   "cell_type": "code",
   "execution_count": 76,
   "metadata": {
    "collapsed": false
   },
   "outputs": [],
   "source": [
    "#create the data set using BMUs\n",
    "\n",
    "BMUList=[]\n",
    "for i in range(0,8):\n",
    "    for j in range(0,8):        \n",
    "        BMUList.append(points[i,j,:])\n"
   ]
  },
  {
   "cell_type": "code",
   "execution_count": 77,
   "metadata": {
    "collapsed": false
   },
   "outputs": [
    {
     "name": "stdout",
     "output_type": "stream",
     "text": [
      "(64, 41)\n"
     ]
    }
   ],
   "source": [
    "print(np.shape(BMUList))"
   ]
  },
  {
   "cell_type": "code",
   "execution_count": 64,
   "metadata": {
    "collapsed": false
   },
   "outputs": [
    {
     "data": {
      "text/plain": [
       "array([0, 0, 0, 1, 1, 1], dtype=int32)"
      ]
     },
     "execution_count": 64,
     "metadata": {},
     "output_type": "execute_result"
    }
   ],
   "source": [
    "from sklearn.cluster import KMeans\n",
    "import numpy as np\n",
    "X = np.array([[1, 2], [1, 4], [1, 0],\n",
    "              [4, 2], [4, 4], [4, 0]])\n",
    "kmeans = KMeans(n_clusters=2, random_state=0).fit(X)\n",
    "kmeans.labels_"
   ]
  },
  {
   "cell_type": "code",
   "execution_count": 65,
   "metadata": {
    "collapsed": false
   },
   "outputs": [
    {
     "data": {
      "text/plain": [
       "array([0, 1], dtype=int32)"
      ]
     },
     "execution_count": 65,
     "metadata": {},
     "output_type": "execute_result"
    }
   ],
   "source": [
    "kmeans.predict([[0, 0], [4, 4]])"
   ]
  },
  {
   "cell_type": "code",
   "execution_count": 66,
   "metadata": {
    "collapsed": false
   },
   "outputs": [
    {
     "data": {
      "text/plain": [
       "array([[ 1.,  2.],\n",
       "       [ 4.,  2.]])"
      ]
     },
     "execution_count": 66,
     "metadata": {},
     "output_type": "execute_result"
    }
   ],
   "source": [
    "kmeans.cluster_centers_"
   ]
  },
  {
   "cell_type": "code",
   "execution_count": 92,
   "metadata": {
    "collapsed": false
   },
   "outputs": [
    {
     "name": "stdout",
     "output_type": "stream",
     "text": [
      "(64,)\n"
     ]
    }
   ],
   "source": [
    "kmeans = KMeans(n_clusters=10, random_state=0).fit(BMUList)\n",
    "labels_of_BMUs=kmeans.labels_\n",
    "print(np.shape(labels_of_BMUs))"
   ]
  },
  {
   "cell_type": "code",
   "execution_count": 91,
   "metadata": {
    "collapsed": false
   },
   "outputs": [
    {
     "name": "stdout",
     "output_type": "stream",
     "text": [
      "[0, 5]\n",
      "[  2.43269240e-002   1.00000000e+000   3.43661676e+001   3.25290616e+000\n",
      "   6.89460759e-006   4.17735588e-013   3.45845952e-323   3.47921334e-077\n",
      "   3.45845952e-323   9.11865261e-042   3.45845952e-323   1.14910125e-006\n",
      "   3.45845952e-323   3.45845952e-323   3.45845952e-323   3.45845952e-323\n",
      "   3.45845952e-323   3.45845952e-323   3.45845952e-323   3.45845952e-323\n",
      "   3.45845952e-323   3.45845952e-323   2.58532168e+002   1.11366180e+001\n",
      "   7.66582434e-001   7.64170433e-001   2.33078916e-001   2.35827243e-001\n",
      "   4.36037644e-002   8.46380563e-002   5.04643406e-007   2.54591027e+002\n",
      "   1.20260267e+001   4.66482147e-002   9.15732470e-002   2.74071921e-004\n",
      "   3.45845952e-323   7.66459349e-001   7.64171608e-001   2.32136309e-001\n",
      "   2.35827243e-001]\n"
     ]
    }
   ],
   "source": [
    "bmu_index, bmu = som.find_bmu(train_x[8, :])\n",
    "print(bmu_index) # [0,0].....[7,7]\n",
    "print(bmu)"
   ]
  },
  {
   "cell_type": "code",
   "execution_count": 119,
   "metadata": {
    "collapsed": false
   },
   "outputs": [
    {
     "name": "stdout",
     "output_type": "stream",
     "text": [
      "[ 0.  0.  0. ...,  0.  0.  0.]\n",
      "<class 'numpy.ndarray'>\n"
     ]
    }
   ],
   "source": [
    "#for each data point store the cluster label\n",
    "data_cluster_list=np.zeros(20000);\n",
    "for i in range(0,20000):\n",
    "    bmu_index, bmu = som.find_bmu(train_x[i, :])    \n",
    "    data_cluster_list[i]=(labels_of_BMUs[((bmu_index[0])*8) +bmu_index[1]]);\n",
    "print(data_cluster_list) \n",
    "print(type(data_cluster_list))"
   ]
  },
  {
   "cell_type": "code",
   "execution_count": 120,
   "metadata": {
    "collapsed": false
   },
   "outputs": [
    {
     "name": "stdout",
     "output_type": "stream",
     "text": [
      "________________________\n",
      "(array([    0,     1,     2, ..., 19997, 19998, 19999]),)\n"
     ]
    }
   ],
   "source": [
    "ii = np.where(data_cluster_list == 0)\n",
    "print('________________________')\n",
    "print(ii)"
   ]
  },
  {
   "cell_type": "code",
   "execution_count": 122,
   "metadata": {
    "collapsed": false
   },
   "outputs": [
    {
     "name": "stdout",
     "output_type": "stream",
     "text": [
      "________________________\n",
      "[    0     1     2 ..., 19997 19998 19999]\n",
      "________________________\n",
      "[1038]\n",
      "________________________\n",
      "[ 7040  7307  7429  8492 17637 19338]\n",
      "________________________\n",
      "[  303   805  1046  1244  1510  1691  2160  2428  2477  2565  2722  3229\n",
      "  3263  3337  3623  3686  4163  5122  5261  6070  6109  6693  6918  7300\n",
      "  8581  9033  9235  9435  9909 10569 12133 12327 12873 13060 13200 13235\n",
      " 13888 15339 15382 15723 15808 16145 16451 16812 16976 17023 17154 17498\n",
      " 17848 18750 19199 19558 19856]\n",
      "________________________\n",
      "[ 4934  8702 14703 14712 15456 17871 19771]\n",
      "________________________\n",
      "[ 3104  3341  5544  5914  6001  7893  8814  9095  9200 10646 11108 11400\n",
      " 12518 14365 14570 14722 17092 17098 18964 19011 19431 19465 19500 19966]\n",
      "________________________\n",
      "[ 1307  2312  4677  5708 11759 12596 14876 17692 17927 19052 19385]\n",
      "________________________\n",
      "[ 4194  5794  6303  7965  8894 13168 14717 14760 16615 16691 17560 19101]\n",
      "________________________\n",
      "[  405  1079  1333  2035  4784  5001  5930  6594  7258  7499  9498 12638\n",
      " 14905 16397 18097 18977 19464 19953]\n",
      "________________________\n",
      "[  366   466   607   619   674   755  1420  1482  1540  1543  1778  2012\n",
      "  2019  2022  2209  2263  2286  2287  2368  2508  2582  2691  2800  3031\n",
      "  3075  3176  3264  3283  3309  3605  3701  3821  3928  4292  4295  4494\n",
      "  4540  4681  4869  4909  5009  5067  5190  5236  5280  5308  5457  5559\n",
      "  5563  5742  5822  5989  6131  6216  6451  6473  6666  6756  6886  7067\n",
      "  7165  7297  7422  7503  7540  7653  7659  7839  7938  8174  8202  8282\n",
      "  8299  8306  8534  8667  8786  8820  9383  9577  9685  9774  9828  9849\n",
      "  9990 10110 10210 10347 10560 10666 10828 10844 10962 10981 11012 11131\n",
      " 11298 11670 11852 11987 12078 12180 12354 12355 12438 12497 12619 12635\n",
      " 12673 12905 12951 12982 13341 13384 13479 13496 13606 13688 13827 14248\n",
      " 14386 14476 14525 14554 14991 15017 15048 15081 15250 15544 15829 16008\n",
      " 16013 16245 16441 16448 16498 16520 16611 16629 16899 17070 17295 17514\n",
      " 17545 17593 17595 17654 17712 17718 17755 17793 18047 18081 18163 18190\n",
      " 18288 18345 18376 18388 18498 18569 18651 18675 18991 18994 19055 19125\n",
      " 19156 19175 19277 19283 19343 19437 19617 19639 19867 19917]\n",
      "(10,)\n"
     ]
    }
   ],
   "source": [
    "#seperate train data for k clusters \n",
    "n_clusters=10;\n",
    "datasets=[];\n",
    "for i in range(0,10):    \n",
    "    searchval = i\n",
    "    ii = np.where(data_cluster_list == i)[0]\n",
    "    print('________________________')\n",
    "    print(ii)\n",
    "    datasets.append(train_x[ii, :])\n",
    "    \n"
   ]
  },
  {
   "cell_type": "code",
   "execution_count": 124,
   "metadata": {
    "collapsed": false
   },
   "outputs": [
    {
     "name": "stdout",
     "output_type": "stream",
     "text": [
      "(1, 41)\n"
     ]
    }
   ],
   "source": [
    "print(np.shape(datasets[1]))"
   ]
  },
  {
   "cell_type": "code",
   "execution_count": 136,
   "metadata": {
    "collapsed": false
   },
   "outputs": [
    {
     "data": {
      "text/plain": [
       "'\\ny_pred_train = clf.predict(X_train)\\ny_pred_test = clf.predict(X_test)\\ny_pred_outliers = clf.predict(X_outliers)\\nn_error_train = y_pred_train[y_pred_train == -1].size\\nn_error_test = y_pred_test[y_pred_test == -1].size\\nn_error_outliers = y_pred_outliers[y_pred_outliers == 1].size\\n'"
      ]
     },
     "execution_count": 136,
     "metadata": {},
     "output_type": "execute_result"
    }
   ],
   "source": [
    "#train OCSVM for each dataset\n",
    "from sklearn import svm\n",
    "aa = list()\n",
    "\n",
    "#create one class SVM for each data cluster\n",
    "for i in range(10):\n",
    "    aa.append(svm.OneClassSVM(nu=0.01, kernel=\"rbf\", gamma=0.1))\n",
    "    \n",
    "for i in range(10):\n",
    "    aa[i].fit(datasets[i])\n",
    "    \n",
    "\n",
    "\n",
    "\"\"\"\n",
    "y_pred_train = clf.predict(X_train)\n",
    "y_pred_test = clf.predict(X_test)\n",
    "y_pred_outliers = clf.predict(X_outliers)\n",
    "n_error_train = y_pred_train[y_pred_train == -1].size\n",
    "n_error_test = y_pred_test[y_pred_test == -1].size\n",
    "n_error_outliers = y_pred_outliers[y_pred_outliers == 1].size\n",
    "\"\"\""
   ]
  },
  {
   "cell_type": "code",
   "execution_count": 134,
   "metadata": {
    "collapsed": true
   },
   "outputs": [],
   "source": [
    "#for each new data , check with all 10 classifieir \n",
    "\n"
   ]
  },
  {
   "cell_type": "code",
   "execution_count": null,
   "metadata": {
    "collapsed": true
   },
   "outputs": [],
   "source": []
  }
 ],
 "metadata": {
  "anaconda-cloud": {},
  "kernelspec": {
   "display_name": "Python [default]",
   "language": "python",
   "name": "python3"
  },
  "language_info": {
   "codemirror_mode": {
    "name": "ipython",
    "version": 3
   },
   "file_extension": ".py",
   "mimetype": "text/x-python",
   "name": "python",
   "nbconvert_exporter": "python",
   "pygments_lexer": "ipython3",
   "version": "3.5.2"
  }
 },
 "nbformat": 4,
 "nbformat_minor": 2
}
